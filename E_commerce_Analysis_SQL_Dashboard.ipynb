{
 "cells": [
  {
   "cell_type": "markdown",
   "metadata": {},
   "source": [
    "Построить информативный дашборд в Redash, объединяющий не менее четырех графиков.\n",
    "\n",
    "Дашборд для отдела продаж онлайн магазина:\n",
    "\n",
    "Отображение основных KPI для понимания текущего состояния бизнеса.\n",
    "Анализ динамики ключевых метрик по странам.\n",
    "Графики выручки, разбивки по странам, уникальных пользователей, заказов, среднего чека, топ товаров и других метрик.\n",
    "Данные: ClickHouse → default.retail\n",
    "Требования к дашборду:\n",
    "\n",
    "Общая идея дашборда должна быть четко выражена.\n",
    "Минимум четыре графика, каждый отвечающий на конкретный вопрос.\n",
    "Графики должны быть наглядны, с четкими названиями и подписями осей."
   ]
  },
  {
   "cell_type": "markdown",
   "metadata": {},
   "source": [
    "### Ccылка на дашборд: http://redash.lab.karpov.courses/public/dashboards/UGXuOCAVjvYpfR0tv1u6h87JAGWClcx2FdvA3Iph?org_slug=default"
   ]
  },
  {
   "cell_type": "markdown",
   "metadata": {},
   "source": [
    "---\n",
    "Топ 5 стран по выручке без UK (https://redash.lab.karpov.courses/queries/36141/source#73885):"
   ]
  },
  {
   "cell_type": "markdown",
   "metadata": {},
   "source": [
    "SELECT\n",
    "\n",
    "    Country,\n",
    "    \n",
    "    SUM(Quantity * UnitPrice) AS Total_revenues\n",
    "    \n",
    "FROM\n",
    "\n",
    "    default.retail\n",
    "    \n",
    "WHERE \n",
    "\n",
    "    Country != 'United Kingdom'\n",
    "    \n",
    "GROUP BY\n",
    "\n",
    "    Country\n",
    "    \n",
    "ORDER BY \n",
    "\n",
    "    Total_revenues DESC\n",
    "    \n",
    "LIMIT 5"
   ]
  },
  {
   "cell_type": "markdown",
   "metadata": {},
   "source": [
    "Отчет позволяет идентифицировать страны, которые приносят наибольшую выручку, без UK. Это поможет сфокусироваться на этих рынках. \n",
    "Нидерланды, Ирландия, Германия, Франция, Австралия являются одним из основных рынков сбыта бизнеса."
   ]
  },
  {
   "cell_type": "markdown",
   "metadata": {},
   "source": [
    "---\n",
    "Динамика выручки и количества заказов по месяцам (https://redash.lab.karpov.courses/queries/36143/source#73890):"
   ]
  },
  {
   "cell_type": "markdown",
   "metadata": {},
   "source": [
    "SELECT\n",
    "\n",
    "    Country,\n",
    "    \n",
    "    toStartOfMonth(InvoiceDate) AS Data,\n",
    "    \n",
    "    SUM(Quantity * UnitPrice) AS Total_revenues\n",
    "    \n",
    "FROM\n",
    "\n",
    "    default.retail\n",
    "    \n",
    "WHERE \n",
    "\n",
    "    Country IN ('Netherlands', 'EIRE', 'Germany', 'France', 'Australia')\n",
    "    \n",
    "GROUP BY\n",
    "\n",
    "    Country,\n",
    "    \n",
    "    Data\n",
    "    \n",
    "ORDER BY \n",
    "\n",
    "    Total_revenues DESC"
   ]
  },
  {
   "cell_type": "markdown",
   "metadata": {},
   "source": [
    "График показывает, как меняется выручка в течение года у \"пятерки\" стран. Найденные сезонные пики могут использоваться для дальнейшего планирования. Например, для грамотного распределения товаров по складам данных стран.\n",
    "Рассмотрим на примере Нидерландов, график достаточно неустойчив, постоянные скачки говорят о сезонности продаж в стране, разница между 01-07 и 01-08 настолько велика, что выручка моментом взлетела в топ с последнего места.  "
   ]
  },
  {
   "cell_type": "markdown",
   "metadata": {},
   "source": [
    "---\n",
    "Топ 5 товаров по количеству продаж в каждой стране (https://redash.lab.karpov.courses/queries/36144/source#73892):"
   ]
  },
  {
   "cell_type": "markdown",
   "metadata": {},
   "source": [
    "SELECT\n",
    "\n",
    "    Country, \n",
    "    \n",
    "    Description, \n",
    "    \n",
    "    Total_revenues\n",
    "    \n",
    "    FROM (\n",
    "        \n",
    "        SELECT\n",
    "        \n",
    "            Country,\n",
    "        \n",
    "            Description,\n",
    "        \n",
    "            SUM(Quantity * UnitPrice) AS Total_revenues,\n",
    "        \n",
    "            DENSE_RANK()\n",
    "        \n",
    "            OVER(\n",
    "                \n",
    "                PARTITION BY Country --раздел в окне по стране\n",
    "                \n",
    "                ORDER BY \n",
    "                \n",
    "                    Total_revenues DESC\n",
    "                \n",
    "                ) AS qwerty\n",
    "        \n",
    "        FROM\n",
    "        \n",
    "            default.retail\n",
    "        \n",
    "        WHERE \n",
    "        \n",
    "            Country IN ('Netherlands', 'EIRE', 'Germany', 'France', 'Australia')\n",
    "        \n",
    "        GROUP BY\n",
    "        \n",
    "            Country,\n",
    "        \n",
    "            Description\n",
    "        \n",
    "    )\n",
    "    \n",
    "WHERE qwerty <= 5"
   ]
  },
  {
   "cell_type": "markdown",
   "metadata": {},
   "source": [
    "Этот график помогает идентифицировать наиболее популярные товары в каждой стране. Вытекающее из пункта 2), на какие товары стоит обратить внимание во время подъема активности покупателей. \n",
    "Возьмем все те же Нидерланды, топ пять товаров относительно равный ~22%, но позиция ROUND SNACK BOXES SET OF 4 FRUITS выделяется меньшим спросом."
   ]
  },
  {
   "cell_type": "markdown",
   "metadata": {},
   "source": [
    "---\n",
    "Сравнение среднего чека между странами (https://redash.lab.karpov.courses/queries/36146/source#73896):"
   ]
  },
  {
   "cell_type": "markdown",
   "metadata": {},
   "source": [
    "SELECT\n",
    "\n",
    "    Country,\n",
    "    \n",
    "    AVG(Quantity * UnitPrice) AS AVG_revenue\n",
    "    \n",
    "FROM\n",
    "\n",
    "    default.retail\n",
    "    \n",
    "WHERE \n",
    "\n",
    "    Country IN ('Netherlands', 'EIRE', 'Germany', 'France', 'Australia')\n",
    "    \n",
    "GROUP BY\n",
    "\n",
    "    Country\n",
    "    \n",
    "ORDER BY \n",
    "\n",
    "    AVG_revenue DESC"
   ]
  },
  {
   "cell_type": "markdown",
   "metadata": {},
   "source": [
    "График сравнивает средние чеки между странами, что может помочь выявить различия в покупательском поведении. Это важно для грамотного ценообразования.\n",
    "На данном графике явными лидерами оказались Нидерланды и Австралия, это говорит о том, что покупательная способность пользователей там выше, можно попробовать слегка завысить цены. А вот во Франции, Германии и Ирландии стоит наоборот понизить."
   ]
  },
  {
   "cell_type": "markdown",
   "metadata": {},
   "source": [
    "---\n",
    "Топ 25 популярных товаров из изучаемых стран (https://redash.lab.karpov.courses/queries/36149/source#73903):\n"
   ]
  },
  {
   "cell_type": "markdown",
   "metadata": {},
   "source": [
    "SELECT\n",
    "\n",
    "    Description,\n",
    "    \n",
    "    SUM(Quantity) AS popular_products\n",
    "    \n",
    "FROM\n",
    "\n",
    "    default.retail\n",
    "    \n",
    "WHERE \n",
    "\n",
    "    Country IN ('Netherlands', 'EIRE', 'Germany', 'France', 'Australia')\n",
    "    \n",
    "GROUP BY\n",
    "\n",
    "    Description \n",
    "    \n",
    "ORDER BY \n",
    "\n",
    "    popular_products DESC\n",
    "    \n",
    "LIMIT 25"
   ]
  },
  {
   "cell_type": "markdown",
   "metadata": {},
   "source": [
    "Данный график отображает 25 популярных товаров во всех изучаемых странах. Это может помочь определить товары, которые являются хитами продаж."
   ]
  },
  {
   "cell_type": "markdown",
   "metadata": {},
   "source": [
    "Общий вывод:\n",
    "    \n",
    "Анализ этих графиков показывает, какие страны и товары способствуют выручке магазина (за исключением UK, вне конкуренции), как изменяется динамика продаж в течение времени и каковы различия в выборе товара покупателями между странами. Это может стать основой для увеличения эффективности бизнеса."
   ]
  }
 ],
 "metadata": {
  "kernelspec": {
   "display_name": "Python 3",
   "language": "python",
   "name": "python3"
  },
  "language_info": {
   "codemirror_mode": {
    "name": "ipython",
    "version": 3
   },
   "file_extension": ".py",
   "mimetype": "text/x-python",
   "name": "python",
   "nbconvert_exporter": "python",
   "pygments_lexer": "ipython3",
   "version": "3.7.3"
  }
 },
 "nbformat": 4,
 "nbformat_minor": 4
}
